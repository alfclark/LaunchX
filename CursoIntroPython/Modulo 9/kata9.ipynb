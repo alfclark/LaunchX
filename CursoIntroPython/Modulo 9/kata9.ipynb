{
 "cells": [
  {
   "cell_type": "markdown",
   "metadata": {},
   "source": [
    "## Kata 9\n",
    "### Rocket data\n",
    "Create functions to display information from the rocket"
   ]
  },
  {
   "cell_type": "markdown",
   "metadata": {},
   "source": [
    "#### Exercise 1"
   ]
  },
  {
   "cell_type": "code",
   "execution_count": 4,
   "metadata": {},
   "outputs": [
    {
     "name": "stdout",
     "output_type": "stream",
     "text": [
      "Warning, fuel is at its lowest levels!\n"
     ]
    }
   ],
   "source": [
    "#start the function\n",
    "def fuel_report(main_tank, backup_tank, ignition_tank):\n",
    "  fuel_avg = (main_tank + backup_tank + ignition_tank) / 3 #calculate the avg\n",
    "  if fuel_avg<=25: #cool warning message\n",
    "    print('Warning, fuel is at its lowest levels!')\n",
    "  return\n",
    "\n",
    "fuel_report(0, 0, 0)"
   ]
  },
  {
   "cell_type": "code",
   "execution_count": 12,
   "metadata": {},
   "outputs": [],
   "source": [
    "#average fuel function\n",
    "def avg_fuel(fuel_value):\n",
    "  total = sum(fuel_value) #get the sum of the values\n",
    "  number_tanks = len(fuel_value) #get the quantity of values\n",
    "  return round(total/number_tanks) #calculate the avg\n"
   ]
  },
  {
   "cell_type": "code",
   "execution_count": 37,
   "metadata": {},
   "outputs": [
    {
     "name": "stdout",
     "output_type": "stream",
     "text": [
      "--------------------------------------------------------------------------------\n",
      "Fuel levels are normal.\n",
      "--------------------------------------------------------------------------------\n",
      "               ---- Fuel Report -----\n",
      "--------------------------------------------------------------------------------\n",
      "Fuel average: 71%\n",
      "Main Tank: 89%\n",
      "Backup Tank: 100%\n",
      "Ignition Tank: 23%\n"
     ]
    }
   ],
   "source": [
    "def fuel_report(main_tank, backup_tank, ignition_tank): #function update initiation\n",
    "  fuels = [main_tank, backup_tank, ignition_tank] #store variables in a list for easier manipulation\n",
    "  if avg_fuel(fuels) < 25: #cool warning message is fuel is lower than 25%\n",
    "     print('Warning, fuel is at its lowest levels!')\n",
    "  else: #if fuel is higher or equal to 25%\n",
    "    print(str('-')*80+ '\\nFuel levels are normal.\\n' + str('-')*80)\n",
    "  return print('               ---- Fuel Report -----\\n' + str('-')*80 + '\\nFuel average: ' + str(avg_fuel(fuels)) + '%' + '\\nMain Tank: ' + str(fuels[0]) + '%' + '\\nBackup Tank: ' + str(fuels[1]) + '%' + '\\nIgnition Tank: ' + str(fuels[2]) + '%')\n",
    "\n",
    "fuel_report(89, 100, 23) #values for the function"
   ]
  },
  {
   "cell_type": "markdown",
   "metadata": {},
   "source": [
    "#### Exercise 2"
   ]
  },
  {
   "cell_type": "code",
   "execution_count": 38,
   "metadata": {},
   "outputs": [
    {
     "name": "stdout",
     "output_type": "stream",
     "text": [
      "               ---- Mission Report -----\n",
      "--------------------------------------------------------------------------------\n",
      "Pre-launch time: 23 min\n",
      "Destination: Mars\n",
      "Flight time: 50 min\n",
      "Fuel Left: 147 gallons\n"
     ]
    }
   ],
   "source": [
    "#initiate function\n",
    "def mission_report(pre_launch_time, flight_time, destination, tank_1, tank_2):\n",
    "  mission_data = [pre_launch_time, flight_time, destination, tank_1, tank_2]\n",
    "  return print('               ---- Mission Report -----\\n' + str('-')*80 + '\\nPre-launch time: ' + str(mission_data[0]) + ' min' + '\\nDestination: ' + mission_data[2] + '\\nFlight time: ' + str(mission_data[1]) + ' min' + '\\nFuel Left: ' + str(mission_data[3] + mission_data[4]) + ' gallons')\n",
    "\n",
    "mission_report(23, 50, 'Mars', 59, 88)\n"
   ]
  },
  {
   "cell_type": "code",
   "execution_count": 71,
   "metadata": {},
   "outputs": [
    {
     "name": "stdout",
     "output_type": "stream",
     "text": [
      "               ---- Mission Report -----\n",
      "--------------------------------------------------------------------------------\n",
      "Mission to: Mars\n",
      "Total mission time: 90 min\n",
      "Fuel Left: 65000 gallons\n"
     ]
    }
   ],
   "source": [
    "def mission_report(destination, *time, **fuel):\n",
    "  return print('               ---- Mission Report -----\\n' + str('-')*80 + '\\nMission to: ' + destination + '\\nTotal mission time: ' + str(sum(time)) + ' min' +'\\nFuel Left: ' + str(sum(fuel.values())) + ' gallons')\n",
    "\n",
    "mission_report('Mars', 30, 60, tank_1=40000, tank_2=25000)"
   ]
  },
  {
   "cell_type": "code",
   "execution_count": 87,
   "metadata": {},
   "outputs": [
    {
     "name": "stdout",
     "output_type": "stream",
     "text": [
      "               ---- Mission Report -----\n",
      "--------------------------------------------------------------------------------\n",
      "Mission to: Mars\n",
      "Total mission time: 90 min\n",
      "Total fuel Left: 65000 gallons\n",
      "Main tank: 40000 gallons\n",
      "Backup tank: 25000 gallons\n"
     ]
    }
   ],
   "source": [
    "def mission_report(destination, *time, **fuel):\n",
    "  report = '               ---- Mission Report -----\\n' + str('-')*80 + '\\nMission to: ' + destination + '\\nTotal mission time: ' + str(sum(time)) + ' min' +'\\nTotal fuel Left: ' + str(sum(fuel.values())) + ' gallons'\n",
    "\n",
    "  for tank_name, quantity in fuel.items():\n",
    "    report += '\\n'+ (str(tank_name).capitalize() + ' tank: ' + str(quantity) +' gallons')\n",
    "  return print(report)\n",
    "\n",
    "mission_report('Mars', 30, 60, main=40000, backup=25000)"
   ]
  }
 ],
 "metadata": {
  "interpreter": {
   "hash": "400f4f044b68c7ed3cc1bf47d96d077d69d2254a6f6d42e9b3df722ef23c5b21"
  },
  "kernelspec": {
   "display_name": "Python 3.9.7 ('base')",
   "language": "python",
   "name": "python3"
  },
  "language_info": {
   "codemirror_mode": {
    "name": "ipython",
    "version": 3
   },
   "file_extension": ".py",
   "mimetype": "text/x-python",
   "name": "python",
   "nbconvert_exporter": "python",
   "pygments_lexer": "ipython3",
   "version": "3.9.7"
  },
  "orig_nbformat": 4
 },
 "nbformat": 4,
 "nbformat_minor": 2
}
