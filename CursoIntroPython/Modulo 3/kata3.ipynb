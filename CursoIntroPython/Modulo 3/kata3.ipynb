{
 "cells": [
  {
   "cell_type": "markdown",
   "metadata": {},
   "source": [
    "## Kata 3\n",
    "### Design a system to warn for asteroid collition\n",
    "System made of boolean logic to warn for asteroid distance to the ship."
   ]
  },
  {
   "cell_type": "markdown",
   "metadata": {},
   "source": [
    "#### Exercise 1"
   ]
  },
  {
   "cell_type": "code",
   "execution_count": 9,
   "metadata": {},
   "outputs": [
    {
     "name": "stdout",
     "output_type": "stream",
     "text": [
      "Warning!, an asteroid is approaching at 49 km/s\n"
     ]
    }
   ],
   "source": [
    "asteroid_speed = 49\n",
    "\n",
    "if asteroid_speed> 25:\n",
    "    print('Warning!, an asteroid is approaching at ' + str(asteroid_speed) + ' km/s')\n",
    "else:\n",
    "    print('No warnings')"
   ]
  },
  {
   "cell_type": "markdown",
   "metadata": {},
   "source": [
    "#### Exercise 2"
   ]
  },
  {
   "cell_type": "code",
   "execution_count": 13,
   "metadata": {},
   "outputs": [
    {
     "name": "stdout",
     "output_type": "stream",
     "text": [
      "Warning!, an asteroid is approaching at 22 km/s. Be cautious with the light in the sky.\n"
     ]
    }
   ],
   "source": [
    "asteroid_speed = 22\n",
    "\n",
    "if asteroid_speed>=20:\n",
    "    print('Warning!, an asteroid is approaching at ' + str(asteroid_speed) + ' km/s. ' + 'Be cautious with the light in the sky.')\n",
    "else:\n",
    "    print('No warnings')"
   ]
  },
  {
   "cell_type": "markdown",
   "metadata": {},
   "source": [
    "#### Exercise 3"
   ]
  },
  {
   "cell_type": "code",
   "execution_count": 15,
   "metadata": {},
   "outputs": [
    {
     "name": "stdout",
     "output_type": "stream",
     "text": [
      "Warning! There is an asteroid dangerous approaching Earth\n"
     ]
    }
   ],
   "source": [
    "asteroid_speed = 32\n",
    "asteroid_size = 40\n",
    "\n",
    "if asteroid_speed > 25 and asteroid_size > 25:\n",
    "    print('Warning! There is an asteroid dangerous approaching Earth')\n",
    "elif asteroid_speed >= 25:\n",
    "    print('Warning! There is a strong light in the sky')\n",
    "elif asteroid_speed > 25:\n",
    "    print('No warnings')\n",
    "else:\n",
    "    print('No warnings')"
   ]
  }
 ],
 "metadata": {
  "interpreter": {
   "hash": "400f4f044b68c7ed3cc1bf47d96d077d69d2254a6f6d42e9b3df722ef23c5b21"
  },
  "kernelspec": {
   "display_name": "Python 3.9.7 ('base')",
   "language": "python",
   "name": "python3"
  },
  "language_info": {
   "codemirror_mode": {
    "name": "ipython",
    "version": 3
   },
   "file_extension": ".py",
   "mimetype": "text/x-python",
   "name": "python",
   "nbconvert_exporter": "python",
   "pygments_lexer": "ipython3",
   "version": "3.9.7"
  },
  "orig_nbformat": 4
 },
 "nbformat": 4,
 "nbformat_minor": 2
}
