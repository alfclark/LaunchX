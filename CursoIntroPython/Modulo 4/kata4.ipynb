{
 "cells": [
  {
   "cell_type": "markdown",
   "metadata": {},
   "source": [
    "## Kata 4\n",
    "### Display facts about the moon\n",
    "Using chain method, display and manipulate information about the moon"
   ]
  },
  {
   "cell_type": "markdown",
   "metadata": {},
   "source": [
    "### Exercise 1"
   ]
  },
  {
   "cell_type": "code",
   "execution_count": 1,
   "metadata": {},
   "outputs": [],
   "source": [
    "#weird text xd\n",
    "text = \"\"\"Interesting facts about the Moon. The Moon is Earth's only satellite. There are several interesting facts about the Moon and how it affects life here on Earth. \n",
    "On average, the Moon moves 4cm away from the Earth every year. This yearly drift is not significant enough to cause immediate effects on Earth. The highest daylight temperature of the Moon is 127 C.\"\"\""
   ]
  },
  {
   "cell_type": "code",
   "execution_count": 2,
   "metadata": {},
   "outputs": [
    {
     "data": {
      "text/plain": [
       "['Interesting facts about the Moon',\n",
       " \"The Moon is Earth's only satellite\",\n",
       " 'There are several interesting facts about the Moon and how it affects life here on Earth',\n",
       " '\\nOn average, the Moon moves 4cm away from the Earth every year',\n",
       " 'This yearly drift is not significant enough to cause immediate effects on Earth',\n",
       " 'The highest daylight temperature of the Moon is 127 C.']"
      ]
     },
     "execution_count": 2,
     "metadata": {},
     "output_type": "execute_result"
    }
   ],
   "source": [
    "text_parts = text.split(\". \") #spliting the sentences in the text by the dot\n",
    "text_parts #print the text"
   ]
  },
  {
   "cell_type": "code",
   "execution_count": 7,
   "metadata": {},
   "outputs": [
    {
     "name": "stdout",
     "output_type": "stream",
     "text": [
      "\n",
      "On average, the Moon moves 4cm away from the Earth every year\n",
      "The highest daylight temperature of the Moon is 127 C.\n"
     ]
    }
   ],
   "source": [
    "key_words = [\"average\", \"temperature\", \"distance\"] #storing the list of key words to find in text\n",
    "\n",
    "for sentence in text_parts:  #for cycle/ starting a new variable called \"sentence\"\n",
    "    for key_word in key_words: #for cycle / starting a new variable called \"key_word\"\n",
    "        if key_word in sentence: #validating if any element in the list is found in sentence\n",
    "            print(sentence)\n",
    "            break"
   ]
  },
  {
   "cell_type": "code",
   "execution_count": 6,
   "metadata": {},
   "outputs": [
    {
     "name": "stdout",
     "output_type": "stream",
     "text": [
      "\n",
      "On average, the Moon moves 4cm away from the Earth every year\n",
      "The highest daylight temperature of the Moon is 127 Celsius.\n"
     ]
    }
   ],
   "source": [
    "for sentence in text_parts:\n",
    "    for key_word in key_words:\n",
    "        if key_word in sentence:\n",
    "            print(sentence.replace(\"C\", \"Celsius\"))\n",
    "            break"
   ]
  },
  {
   "cell_type": "markdown",
   "metadata": {},
   "source": [
    "### Exercise 2"
   ]
  },
  {
   "cell_type": "code",
   "execution_count": 26,
   "metadata": {},
   "outputs": [],
   "source": [
    "satellite_name = \"Moon\" #starting the variable of the satellite\n",
    "gravity = 0.00162 #starting the variable in kms\n",
    "planet = \"Earth\" #variable planet"
   ]
  },
  {
   "cell_type": "code",
   "execution_count": 27,
   "metadata": {},
   "outputs": [
    {
     "data": {
      "text/plain": [
       "'Gravity information about the Moon'"
      ]
     },
     "execution_count": 27,
     "metadata": {},
     "output_type": "execute_result"
    }
   ],
   "source": [
    "title = f'Gravity information about the {satellite_name}' #reading the string value of satellite\n",
    "title"
   ]
  },
  {
   "cell_type": "code",
   "execution_count": 28,
   "metadata": {},
   "outputs": [
    {
     "name": "stdout",
     "output_type": "stream",
     "text": [
      "--------------------------------------------------------------------------------\n",
      "Name of parent planet: Earth\n",
      "Name of the satellite: Moon\n",
      "Gravity on: Moon: 0.00162m/s2\n"
     ]
    }
   ],
   "source": [
    "facts = str(\"-\"*80) + \"\\nName of parent planet: \" + planet + \"\\nName of the satellite: \" + satellite_name + \"\\nGravity on: \" + satellite_name + \": \" + str(gravity) + \"m/s2\"\n",
    "print(facts)"
   ]
  },
  {
   "cell_type": "code",
   "execution_count": 29,
   "metadata": {},
   "outputs": [],
   "source": [
    "#setting new variables\n",
    "satellite_name = \"Phobos\"\n",
    "gravity = 0.00143 \n",
    "planet = \"Mars\""
   ]
  },
  {
   "cell_type": "code",
   "execution_count": 30,
   "metadata": {},
   "outputs": [
    {
     "name": "stdout",
     "output_type": "stream",
     "text": [
      "--------------------------------------------------------------------------------\n",
      "Name of parent planet: Earth\n",
      "Name of the satellite: Moon\n",
      "Gravity on: Moon: 0.00162m/s2\n"
     ]
    }
   ],
   "source": [
    "print(facts)"
   ]
  },
  {
   "cell_type": "code",
   "execution_count": 33,
   "metadata": {},
   "outputs": [
    {
     "name": "stdout",
     "output_type": "stream",
     "text": [
      "\n",
      "Gravity information for: Phobos\n",
      "Name of planet: Mars\n",
      "Gravity on Phobos: 1.4300000000000002 m/s2\n",
      "\n"
     ]
    }
   ],
   "source": [
    "#creating the template\n",
    "new_template = f\"\"\"\n",
    "Gravity information for: {satellite_name}\n",
    "Name of planet: {planet}\n",
    "Gravity on {satellite_name}: {gravity*1000} m/s2\n",
    "\"\"\"\n",
    "\n",
    "print(new_template.format(satellite_name = satellite_name, planet = planet, gravity = gravity))"
   ]
  }
 ],
 "metadata": {
  "interpreter": {
   "hash": "400f4f044b68c7ed3cc1bf47d96d077d69d2254a6f6d42e9b3df722ef23c5b21"
  },
  "kernelspec": {
   "display_name": "Python 3.9.7 ('base')",
   "language": "python",
   "name": "python3"
  },
  "language_info": {
   "codemirror_mode": {
    "name": "ipython",
    "version": 3
   },
   "file_extension": ".py",
   "mimetype": "text/x-python",
   "name": "python",
   "nbconvert_exporter": "python",
   "pygments_lexer": "ipython3",
   "version": "3.9.7"
  },
  "orig_nbformat": 4
 },
 "nbformat": 4,
 "nbformat_minor": 2
}
