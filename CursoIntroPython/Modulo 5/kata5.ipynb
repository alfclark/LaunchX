{
 "cells": [
  {
   "cell_type": "markdown",
   "metadata": {},
   "source": [
    "## Kata 5\n",
    "### Display the distance between planets\n",
    "Using math operators, design a system to calculate and display the distance between planets"
   ]
  },
  {
   "cell_type": "code",
   "execution_count": 2,
   "metadata": {},
   "outputs": [],
   "source": [
    "earth = 149597870\n",
    "jupyter = 778547200"
   ]
  },
  {
   "cell_type": "code",
   "execution_count": 16,
   "metadata": {},
   "outputs": [
    {
     "name": "stdout",
     "output_type": "stream",
     "text": [
      "628949330 km.\n",
      "390577534 mi.\n"
     ]
    }
   ],
   "source": [
    "distance_km = jupyter - earth\n",
    "print(str(distance_km) + \" km.\")\n",
    "distance_miles = distance_km * 0.621\n",
    "print(str(distance_miles.__round__()) + \" mi.\")"
   ]
  },
  {
   "cell_type": "code",
   "execution_count": 21,
   "metadata": {},
   "outputs": [
    {
     "name": "stdout",
     "output_type": "stream",
     "text": [
      "5 km.\n",
      "3 mi.\n"
     ]
    }
   ],
   "source": [
    "planet_1 = input(\"Enter the distance of planet 1 to the sun in KM\")\n",
    "planet_2 = input(\"Enter the distance of planet 2 to the sun in KM\")\n",
    "\n",
    "planet_1 = int(planet_1)\n",
    "planet_2 = int(planet_2)\n",
    "\n",
    "distance_km = planet_2 - planet_1\n",
    "print(str(abs(distance_km)) + \" km.\")\n",
    "\n",
    "distance_mi = distance_km * 0.621\n",
    "print(str(abs(distance_mi.__round__())) + \" mi.\")"
   ]
  }
 ],
 "metadata": {
  "interpreter": {
   "hash": "400f4f044b68c7ed3cc1bf47d96d077d69d2254a6f6d42e9b3df722ef23c5b21"
  },
  "kernelspec": {
   "display_name": "Python 3.9.7 ('base')",
   "language": "python",
   "name": "python3"
  },
  "language_info": {
   "codemirror_mode": {
    "name": "ipython",
    "version": 3
   },
   "file_extension": ".py",
   "mimetype": "text/x-python",
   "name": "python",
   "nbconvert_exporter": "python",
   "pygments_lexer": "ipython3",
   "version": "3.9.7"
  },
  "orig_nbformat": 4
 },
 "nbformat": 4,
 "nbformat_minor": 2
}
