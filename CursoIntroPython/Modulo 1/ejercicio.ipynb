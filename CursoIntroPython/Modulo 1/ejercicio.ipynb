{
 "cells": [
  {
   "cell_type": "markdown",
   "metadata": {},
   "source": [
    "## Kata 1\n",
    "### Design a system to display the actual date\n",
    "Using the print function, design a system to display the actual date for the ship."
   ]
  },
  {
   "cell_type": "markdown",
   "metadata": {},
   "source": [
    "#### Exercise 1"
   ]
  },
  {
   "cell_type": "code",
   "execution_count": 1,
   "metadata": {},
   "outputs": [
    {
     "name": "stdout",
     "output_type": "stream",
     "text": [
      "Today is:  2022-02-14\n"
     ]
    }
   ],
   "source": [
    "from datetime import date #importing the date library\n",
    "print('Today is: ', str(date.today())) #print today's date"
   ]
  },
  {
   "cell_type": "code",
   "execution_count": 2,
   "metadata": {},
   "outputs": [
    {
     "name": "stdout",
     "output_type": "stream",
     "text": [
      "11 parsec, is 35.877159999999996 lightyears.\n"
     ]
    }
   ],
   "source": [
    "parsec = 11 #initiating variable\n",
    "ligthyears = 3.26156 * parsec #converting parsec to lightyears (buzz yogurt light)\n",
    "\n",
    "print(str(parsec) + \" parsec, is \" + str(ligthyears) + \" lightyears.\") #print a cool message"
   ]
  }
 ],
 "metadata": {
  "interpreter": {
   "hash": "400f4f044b68c7ed3cc1bf47d96d077d69d2254a6f6d42e9b3df722ef23c5b21"
  },
  "kernelspec": {
   "display_name": "Python 3.9.7 ('base')",
   "language": "python",
   "name": "python3"
  },
  "language_info": {
   "codemirror_mode": {
    "name": "ipython",
    "version": 3
   },
   "file_extension": ".py",
   "mimetype": "text/x-python",
   "name": "python",
   "nbconvert_exporter": "python",
   "pygments_lexer": "ipython3",
   "version": "3.9.7"
  },
  "orig_nbformat": 4
 },
 "nbformat": 4,
 "nbformat_minor": 2
}
