{
 "cells": [
  {
   "cell_type": "code",
   "execution_count": 3,
   "metadata": {},
   "outputs": [
    {
     "name": "stdout",
     "output_type": "stream",
     "text": [
      "Today is:  2022-02-07\n"
     ]
    }
   ],
   "source": [
    "from datetime import date\n",
    "print('Today is: ', str(date.today()))"
   ]
  },
  {
   "cell_type": "code",
   "execution_count": 6,
   "metadata": {},
   "outputs": [
    {
     "name": "stdout",
     "output_type": "stream",
     "text": [
      "11 parsec, is 35.877159999999996 lightyears.\n"
     ]
    }
   ],
   "source": [
    "parsec =11\n",
    "ligthyears =3.26156 * parsec\n",
    "\n",
    "print(str(parsec) + \" parsec, is \" + str(ligthyears) + \" lightyears.\")"
   ]
  }
 ],
 "metadata": {
  "interpreter": {
   "hash": "400f4f044b68c7ed3cc1bf47d96d077d69d2254a6f6d42e9b3df722ef23c5b21"
  },
  "kernelspec": {
   "display_name": "Python 3.9.7 ('base')",
   "language": "python",
   "name": "python3"
  },
  "language_info": {
   "codemirror_mode": {
    "name": "ipython",
    "version": 3
   },
   "file_extension": ".py",
   "mimetype": "text/x-python",
   "name": "python",
   "nbconvert_exporter": "python",
   "pygments_lexer": "ipython3",
   "version": "3.9.7"
  },
  "orig_nbformat": 4
 },
 "nbformat": 4,
 "nbformat_minor": 2
}
