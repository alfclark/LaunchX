{
 "cells": [
  {
   "cell_type": "markdown",
   "metadata": {},
   "source": [
    "## Kata 8\n",
    "### Planetary dictionary\n",
    "Create and modify a dictionary to access to its data stored"
   ]
  },
  {
   "cell_type": "markdown",
   "metadata": {},
   "source": [
    "#### Exercise 1"
   ]
  },
  {
   "cell_type": "code",
   "execution_count": 5,
   "metadata": {},
   "outputs": [
    {
     "name": "stdout",
     "output_type": "stream",
     "text": [
      "Mars has 2 moons.\n"
     ]
    }
   ],
   "source": [
    "#initiate the dictionary\n",
    "planet = {\n",
    "  'name': 'Mars',\n",
    "  'moons': 2\n",
    "}\n",
    "#printing\n",
    "print(planet['name'] + \" has \" + str(planet['moons']) + \" moons.\")"
   ]
  },
  {
   "cell_type": "code",
   "execution_count": 22,
   "metadata": {},
   "outputs": [
    {
     "name": "stdout",
     "output_type": "stream",
     "text": [
      "--------------------------------------------------------------------------------\n",
      "Planet name: Mars\n",
      "Number of moons: 2\n",
      "Circunference (km): \n",
      "Polar: 6752 km\n"
     ]
    }
   ],
   "source": [
    "#updating the dictionary with the circumference\n",
    "planet['Circumference(km)'] = {\n",
    "    'polar': 6752,\n",
    "    'equatorial': 6792\n",
    "}\n",
    "\n",
    "#designing the print format\n",
    "information = str('-'*80) + '\\nPlanet name: ' + planet ['name'] + '\\nNumber of moons: ' + str(planet['moons']) + '\\nCircunference (km): ' + '\\nPolar: ' + str(planet['Circumference(km)']['polar']) + ' km' \n",
    "print(information) #print"
   ]
  },
  {
   "cell_type": "markdown",
   "metadata": {},
   "source": [
    "#### Exercise 2"
   ]
  },
  {
   "cell_type": "code",
   "execution_count": 27,
   "metadata": {},
   "outputs": [
    {
     "name": "stdout",
     "output_type": "stream",
     "text": [
      "There is a total of: 214 moons.\n"
     ]
    }
   ],
   "source": [
    "total_moons = 0 #initiate total moons variable\n",
    "\n",
    "planet_moons = { #dictionary\n",
    "    'mercury': 0,\n",
    "    'venus': 0,\n",
    "    'earth': 1,\n",
    "    'mars': 2,\n",
    "    'jupiter': 79,\n",
    "    'saturn': 82,\n",
    "    'uranus': 27,\n",
    "    'neptune': 14,\n",
    "    'pluto': 5,\n",
    "    'haumea': 2,\n",
    "    'makemake': 1,\n",
    "    'eris': 1\n",
    "}\n",
    "\n",
    "moons = planet_moons.values() #get number of moons from every planet\n",
    "\n",
    "for moon in moons: #cycle to add the number of moons\n",
    "  total_moons = total_moons + moon\n",
    "\n",
    "print('There is a total of: ' + str(total_moons) + ' moons.' ) #print"
   ]
  },
  {
   "cell_type": "code",
   "execution_count": 30,
   "metadata": {},
   "outputs": [
    {
     "name": "stdout",
     "output_type": "stream",
     "text": [
      "Average of moons per planet: 18 moons.\n"
     ]
    }
   ],
   "source": [
    "planets = len(planet_moons.keys()) #get the quantity of keys in the dictionary\n",
    "avg_moons = round(total_moons/planets) #calculate the average, round it\n",
    "\n",
    "print('Average of moons per planet: ' + str(avg_moons) + ' moons.') #print"
   ]
  }
 ],
 "metadata": {
  "interpreter": {
   "hash": "400f4f044b68c7ed3cc1bf47d96d077d69d2254a6f6d42e9b3df722ef23c5b21"
  },
  "kernelspec": {
   "display_name": "Python 3.9.7 ('base')",
   "language": "python",
   "name": "python3"
  },
  "language_info": {
   "codemirror_mode": {
    "name": "ipython",
    "version": 3
   },
   "file_extension": ".py",
   "mimetype": "text/x-python",
   "name": "python",
   "nbconvert_exporter": "python",
   "pygments_lexer": "ipython3",
   "version": "3.9.7"
  },
  "orig_nbformat": 4
 },
 "nbformat": 4,
 "nbformat_minor": 2
}
