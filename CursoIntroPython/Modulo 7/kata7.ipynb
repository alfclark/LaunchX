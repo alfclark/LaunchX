{
 "cells": [
  {
   "cell_type": "markdown",
   "metadata": {},
   "source": [
    "## Kata 7\n",
    "### Planetary form\n",
    "Using the while and for cycle functions to create a list of planets"
   ]
  },
  {
   "cell_type": "markdown",
   "metadata": {},
   "source": [
    "#### Exercise 1"
   ]
  },
  {
   "cell_type": "code",
   "execution_count": 24,
   "metadata": {},
   "outputs": [],
   "source": [
    "new_planet = ''     #variable 1\n",
    "planets = []        #variable 2 \n",
    "\n",
    "#Start while cycle\n",
    "while new_planet.lower() != 'done':                                         #we convert input to lower keys and set to run \"while\" input different to \"done\"\n",
    "  if new_planet:                                                            #we validate that we receive an input as \"new_planet\" to store it in the \"planets\" list\n",
    "    planets.append(new_planet)                                              #storing the input in \"planets\" list\n",
    "  new_planet = input('Enter a new planet, when finish enter \"done\"')        #input funtion and input message"
   ]
  },
  {
   "cell_type": "markdown",
   "metadata": {},
   "source": [
    "#### Exercise 2"
   ]
  },
  {
   "cell_type": "code",
   "execution_count": 25,
   "metadata": {},
   "outputs": [
    {
     "name": "stdout",
     "output_type": "stream",
     "text": [
      "The planet database has a total of: 5 planets\n",
      "With the following planets: ['mercury', 'venus', 'earth', 'mars', 'jupyter']\n"
     ]
    }
   ],
   "source": [
    "#Printing the planets database\n",
    "for planet in planets:\n",
    "  print(\"The planet database has a total of: \"+ str(len(planets)) + \" planets\" + \"\\nWith the following planets: {}\".format(planets))\n",
    "  break"
   ]
  }
 ],
 "metadata": {
  "interpreter": {
   "hash": "400f4f044b68c7ed3cc1bf47d96d077d69d2254a6f6d42e9b3df722ef23c5b21"
  },
  "kernelspec": {
   "display_name": "Python 3.9.7 ('base')",
   "language": "python",
   "name": "python3"
  },
  "language_info": {
   "codemirror_mode": {
    "name": "ipython",
    "version": 3
   },
   "file_extension": ".py",
   "mimetype": "text/x-python",
   "name": "python",
   "nbconvert_exporter": "python",
   "pygments_lexer": "ipython3",
   "version": "3.9.7"
  },
  "orig_nbformat": 4
 },
 "nbformat": 4,
 "nbformat_minor": 2
}
